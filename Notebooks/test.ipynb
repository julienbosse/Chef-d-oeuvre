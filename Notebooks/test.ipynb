{
 "cells": [
  {
   "cell_type": "code",
   "execution_count": 7,
   "metadata": {},
   "outputs": [],
   "source": [
    "import smtplib\n",
    "from email.message import EmailMessage\n",
    "\n",
    "# set your email and password\n",
    "# please use App Password\n",
    "email_address = \"julien@bosse.pro\"\n",
    "email_password = \"Ddlaalhoblcjp8758@@\"\n",
    "\n",
    "# create email\n",
    "msg = EmailMessage()\n",
    "msg['Subject'] = \"Test\"\n",
    "msg['From'] = email_address\n",
    "msg['To'] = \"julien@bosse.pro\"\n",
    "msg.set_content(\"Test message\")\n",
    "\n",
    "# send email\n",
    "with smtplib.SMTP('mail.gandi.net', 25) as smtp:\n",
    "    smtp.login(email_address, email_password)\n",
    "    smtp.send_message(msg)"
   ]
  },
  {
   "cell_type": "code",
   "execution_count": null,
   "metadata": {},
   "outputs": [],
   "source": []
  }
 ],
 "metadata": {
  "kernelspec": {
   "display_name": "Python 3.10.2 64-bit",
   "language": "python",
   "name": "python3"
  },
  "language_info": {
   "codemirror_mode": {
    "name": "ipython",
    "version": 3
   },
   "file_extension": ".py",
   "mimetype": "text/x-python",
   "name": "python",
   "nbconvert_exporter": "python",
   "pygments_lexer": "ipython3",
   "version": "3.10.2"
  },
  "orig_nbformat": 4,
  "vscode": {
   "interpreter": {
    "hash": "aee8b7b246df8f9039afb4144a1f6fd8d2ca17a180786b69acc140d282b71a49"
   }
  }
 },
 "nbformat": 4,
 "nbformat_minor": 2
}
